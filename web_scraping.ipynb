{
  "nbformat": 4,
  "nbformat_minor": 0,
  "metadata": {
    "colab": {
      "provenance": [],
      "mount_file_id": "1-gOvgSxG_27fp0Hr_Z7UiSoiYA9wYaJB",
      "authorship_tag": "ABX9TyPpLEldUJ2AgCo0funVxrCN",
      "include_colab_link": true
    },
    "kernelspec": {
      "name": "python3",
      "display_name": "Python 3"
    },
    "language_info": {
      "name": "python"
    }
  },
  "cells": [
    {
      "cell_type": "markdown",
      "metadata": {
        "id": "view-in-github",
        "colab_type": "text"
      },
      "source": [
        "<a href=\"https://colab.research.google.com/github/ecemay/web_scraping/blob/main/web_scraping.ipynb\" target=\"_parent\"><img src=\"https://colab.research.google.com/assets/colab-badge.svg\" alt=\"Open In Colab\"/></a>"
      ]
    },
    {
      "cell_type": "code",
      "execution_count": 1,
      "metadata": {
        "id": "tYAY7lNP7hNX"
      },
      "outputs": [],
      "source": [
        "\n",
        "\n",
        "import pandas as pd\n",
        "import requests\n",
        "from bs4 import BeautifulSoup\n"
      ]
    },
    {
      "cell_type": "code",
      "source": [
        "URL=\"https://www.payscale.com/college-salary-report/majors-that-pay-you-back/bachelors\"\n",
        "url_list =[URL]\n",
        "rows = []\n",
        "for i in range(1,10):\n",
        "  next_url=\"https://www.payscale.com/college-salary-report/majors-that-pay-you-back/bachelors\" + f\"/page/{i}\"\n",
        "  url_list.append(next_url)\n",
        "print(url_list)\n",
        "for url in url_list:\n",
        "  response = requests.get(url)\n",
        "  website_html = response.text\n",
        "\n",
        "  soup = BeautifulSoup(website_html, \"html.parser\")\n",
        "\n",
        "  table = soup.find_all(name=\"tr\", class_ =\"data-table__row\")\n",
        "  \n",
        "  for row in table:\n",
        "      # Extract the cells\n",
        "      cells = row.find_all(\"span\", class_=\"data-table__value\")\n",
        "      for cell in cells:\n",
        "          rows.append(cell.text)\n",
        "          \n",
        " # Split the text into a list of rows\n",
        "\n",
        "# Create a list of dictionaries to store the data\n",
        "#print(rows)\n",
        "data=[]\n",
        "# Loop through each row and store the values\n",
        "for i in range(0, len(rows), 6):\n",
        "    data.append({\n",
        "          \"Rank\": rows[i],\n",
        "          \"Major\": rows[i + 1],\n",
        "          \"Degree\": rows[i + 2],\n",
        "          \"Starting Median Salary\": rows[i + 3],\n",
        "          \"Mid-Career Median Salary\": rows[i + 4],\n",
        "          \"Percent Change from Starting to Mid-Career Salary\": rows[i + 5]\n",
        "    })\n",
        "\n",
        "# Convert the list of dictionaries to a dataframe\n",
        "df = pd.DataFrame(data)\n",
        "\n",
        "df.head()\n",
        "\n",
        "\n"
      ],
      "metadata": {
        "colab": {
          "base_uri": "https://localhost:8080/",
          "height": 244
        },
        "id": "RV_RHTDwNIwj",
        "outputId": "fa7aa89f-76ff-45aa-927a-47585a41def9"
      },
      "execution_count": 7,
      "outputs": [
        {
          "output_type": "stream",
          "name": "stdout",
          "text": [
            "['https://www.payscale.com/college-salary-report/majors-that-pay-you-back/bachelors', 'https://www.payscale.com/college-salary-report/majors-that-pay-you-back/bachelors/page/1', 'https://www.payscale.com/college-salary-report/majors-that-pay-you-back/bachelors/page/2', 'https://www.payscale.com/college-salary-report/majors-that-pay-you-back/bachelors/page/3', 'https://www.payscale.com/college-salary-report/majors-that-pay-you-back/bachelors/page/4', 'https://www.payscale.com/college-salary-report/majors-that-pay-you-back/bachelors/page/5', 'https://www.payscale.com/college-salary-report/majors-that-pay-you-back/bachelors/page/6', 'https://www.payscale.com/college-salary-report/majors-that-pay-you-back/bachelors/page/7', 'https://www.payscale.com/college-salary-report/majors-that-pay-you-back/bachelors/page/8', 'https://www.payscale.com/college-salary-report/majors-that-pay-you-back/bachelors/page/9']\n"
          ]
        },
        {
          "output_type": "execute_result",
          "data": {
            "text/plain": [
              "  Rank                                             Major     Degree  \\\n",
              "0    1                             Petroleum Engineering  Bachelors   \n",
              "1    2      Operations Research & Industrial Engineering  Bachelors   \n",
              "2    3  Electrical Engineering & Computer Science (EECS)  Bachelors   \n",
              "3    4                                Interaction Design  Bachelors   \n",
              "4    5                                 Public Accounting  Bachelors   \n",
              "\n",
              "  Starting Median Salary Mid-Career Median Salary  \\\n",
              "0                $93,200                 $187,300   \n",
              "1                $84,800                 $170,400   \n",
              "2               $108,500                 $159,300   \n",
              "3                $68,300                 $155,800   \n",
              "4                $59,800                 $147,700   \n",
              "\n",
              "  Percent Change from Starting to Mid-Career Salary  \n",
              "0                                               67%  \n",
              "1                                               28%  \n",
              "2                                               46%  \n",
              "3                                               55%  \n",
              "4                                               47%  "
            ],
            "text/html": [
              "\n",
              "  <div id=\"df-2be24db7-0d5b-410d-b9c7-b4d8406037d8\">\n",
              "    <div class=\"colab-df-container\">\n",
              "      <div>\n",
              "<style scoped>\n",
              "    .dataframe tbody tr th:only-of-type {\n",
              "        vertical-align: middle;\n",
              "    }\n",
              "\n",
              "    .dataframe tbody tr th {\n",
              "        vertical-align: top;\n",
              "    }\n",
              "\n",
              "    .dataframe thead th {\n",
              "        text-align: right;\n",
              "    }\n",
              "</style>\n",
              "<table border=\"1\" class=\"dataframe\">\n",
              "  <thead>\n",
              "    <tr style=\"text-align: right;\">\n",
              "      <th></th>\n",
              "      <th>Rank</th>\n",
              "      <th>Major</th>\n",
              "      <th>Degree</th>\n",
              "      <th>Starting Median Salary</th>\n",
              "      <th>Mid-Career Median Salary</th>\n",
              "      <th>Percent Change from Starting to Mid-Career Salary</th>\n",
              "    </tr>\n",
              "  </thead>\n",
              "  <tbody>\n",
              "    <tr>\n",
              "      <th>0</th>\n",
              "      <td>1</td>\n",
              "      <td>Petroleum Engineering</td>\n",
              "      <td>Bachelors</td>\n",
              "      <td>$93,200</td>\n",
              "      <td>$187,300</td>\n",
              "      <td>67%</td>\n",
              "    </tr>\n",
              "    <tr>\n",
              "      <th>1</th>\n",
              "      <td>2</td>\n",
              "      <td>Operations Research &amp; Industrial Engineering</td>\n",
              "      <td>Bachelors</td>\n",
              "      <td>$84,800</td>\n",
              "      <td>$170,400</td>\n",
              "      <td>28%</td>\n",
              "    </tr>\n",
              "    <tr>\n",
              "      <th>2</th>\n",
              "      <td>3</td>\n",
              "      <td>Electrical Engineering &amp; Computer Science (EECS)</td>\n",
              "      <td>Bachelors</td>\n",
              "      <td>$108,500</td>\n",
              "      <td>$159,300</td>\n",
              "      <td>46%</td>\n",
              "    </tr>\n",
              "    <tr>\n",
              "      <th>3</th>\n",
              "      <td>4</td>\n",
              "      <td>Interaction Design</td>\n",
              "      <td>Bachelors</td>\n",
              "      <td>$68,300</td>\n",
              "      <td>$155,800</td>\n",
              "      <td>55%</td>\n",
              "    </tr>\n",
              "    <tr>\n",
              "      <th>4</th>\n",
              "      <td>5</td>\n",
              "      <td>Public Accounting</td>\n",
              "      <td>Bachelors</td>\n",
              "      <td>$59,800</td>\n",
              "      <td>$147,700</td>\n",
              "      <td>47%</td>\n",
              "    </tr>\n",
              "  </tbody>\n",
              "</table>\n",
              "</div>\n",
              "      <button class=\"colab-df-convert\" onclick=\"convertToInteractive('df-2be24db7-0d5b-410d-b9c7-b4d8406037d8')\"\n",
              "              title=\"Convert this dataframe to an interactive table.\"\n",
              "              style=\"display:none;\">\n",
              "        \n",
              "  <svg xmlns=\"http://www.w3.org/2000/svg\" height=\"24px\"viewBox=\"0 0 24 24\"\n",
              "       width=\"24px\">\n",
              "    <path d=\"M0 0h24v24H0V0z\" fill=\"none\"/>\n",
              "    <path d=\"M18.56 5.44l.94 2.06.94-2.06 2.06-.94-2.06-.94-.94-2.06-.94 2.06-2.06.94zm-11 1L8.5 8.5l.94-2.06 2.06-.94-2.06-.94L8.5 2.5l-.94 2.06-2.06.94zm10 10l.94 2.06.94-2.06 2.06-.94-2.06-.94-.94-2.06-.94 2.06-2.06.94z\"/><path d=\"M17.41 7.96l-1.37-1.37c-.4-.4-.92-.59-1.43-.59-.52 0-1.04.2-1.43.59L10.3 9.45l-7.72 7.72c-.78.78-.78 2.05 0 2.83L4 21.41c.39.39.9.59 1.41.59.51 0 1.02-.2 1.41-.59l7.78-7.78 2.81-2.81c.8-.78.8-2.07 0-2.86zM5.41 20L4 18.59l7.72-7.72 1.47 1.35L5.41 20z\"/>\n",
              "  </svg>\n",
              "      </button>\n",
              "      \n",
              "  <style>\n",
              "    .colab-df-container {\n",
              "      display:flex;\n",
              "      flex-wrap:wrap;\n",
              "      gap: 12px;\n",
              "    }\n",
              "\n",
              "    .colab-df-convert {\n",
              "      background-color: #E8F0FE;\n",
              "      border: none;\n",
              "      border-radius: 50%;\n",
              "      cursor: pointer;\n",
              "      display: none;\n",
              "      fill: #1967D2;\n",
              "      height: 32px;\n",
              "      padding: 0 0 0 0;\n",
              "      width: 32px;\n",
              "    }\n",
              "\n",
              "    .colab-df-convert:hover {\n",
              "      background-color: #E2EBFA;\n",
              "      box-shadow: 0px 1px 2px rgba(60, 64, 67, 0.3), 0px 1px 3px 1px rgba(60, 64, 67, 0.15);\n",
              "      fill: #174EA6;\n",
              "    }\n",
              "\n",
              "    [theme=dark] .colab-df-convert {\n",
              "      background-color: #3B4455;\n",
              "      fill: #D2E3FC;\n",
              "    }\n",
              "\n",
              "    [theme=dark] .colab-df-convert:hover {\n",
              "      background-color: #434B5C;\n",
              "      box-shadow: 0px 1px 3px 1px rgba(0, 0, 0, 0.15);\n",
              "      filter: drop-shadow(0px 1px 2px rgba(0, 0, 0, 0.3));\n",
              "      fill: #FFFFFF;\n",
              "    }\n",
              "  </style>\n",
              "\n",
              "      <script>\n",
              "        const buttonEl =\n",
              "          document.querySelector('#df-2be24db7-0d5b-410d-b9c7-b4d8406037d8 button.colab-df-convert');\n",
              "        buttonEl.style.display =\n",
              "          google.colab.kernel.accessAllowed ? 'block' : 'none';\n",
              "\n",
              "        async function convertToInteractive(key) {\n",
              "          const element = document.querySelector('#df-2be24db7-0d5b-410d-b9c7-b4d8406037d8');\n",
              "          const dataTable =\n",
              "            await google.colab.kernel.invokeFunction('convertToInteractive',\n",
              "                                                     [key], {});\n",
              "          if (!dataTable) return;\n",
              "\n",
              "          const docLinkHtml = 'Like what you see? Visit the ' +\n",
              "            '<a target=\"_blank\" href=https://colab.research.google.com/notebooks/data_table.ipynb>data table notebook</a>'\n",
              "            + ' to learn more about interactive tables.';\n",
              "          element.innerHTML = '';\n",
              "          dataTable['output_type'] = 'display_data';\n",
              "          await google.colab.output.renderOutput(dataTable, element);\n",
              "          const docLink = document.createElement('div');\n",
              "          docLink.innerHTML = docLinkHtml;\n",
              "          element.appendChild(docLink);\n",
              "        }\n",
              "      </script>\n",
              "    </div>\n",
              "  </div>\n",
              "  "
            ]
          },
          "metadata": {},
          "execution_count": 7
        }
      ]
    },
    {
      "cell_type": "code",
      "source": [
        "df.shape"
      ],
      "metadata": {
        "colab": {
          "base_uri": "https://localhost:8080/"
        },
        "id": "QM9ss2u3YvcS",
        "outputId": "da3b9948-fadc-4748-cfe7-ff92234dd3e7"
      },
      "execution_count": 8,
      "outputs": [
        {
          "output_type": "execute_result",
          "data": {
            "text/plain": [
              "(250, 6)"
            ]
          },
          "metadata": {},
          "execution_count": 8
        }
      ]
    },
    {
      "cell_type": "code",
      "source": [],
      "metadata": {
        "id": "2XWSrMXyb5gS"
      },
      "execution_count": null,
      "outputs": []
    }
  ]
}